{
 "cells": [
  {
   "cell_type": "markdown",
   "metadata": {},
   "source": [
    "# Neural networks with PyTorch\n",
    "\n",
    "Deep learning networks tend to be massive with dozens or hundreds of layers, that's where the term \"deep\" comes from. You can build one of these deep networks using only weight matrices as we did in the previous notebook, but in general it's very cumbersome and difficult to implement. PyTorch has a nice module `nn` that provides a nice way to efficiently build large neural networks."
   ]
  },
  {
   "cell_type": "code",
   "execution_count": 35,
   "metadata": {},
   "outputs": [],
   "source": [
    "# Import necessary packages\n",
    "\n",
    "%matplotlib inline\n",
    "%config InlineBackend.figure_format = 'retina'\n",
    "\n",
    "import numpy as np\n",
    "import torch\n",
    "\n",
    "import helper\n",
    "\n",
    "import matplotlib.pyplot as plt"
   ]
  },
  {
   "cell_type": "markdown",
   "metadata": {},
   "source": [
    "\n",
    "Now we're going to build a larger network that can solve a (formerly) difficult problem, identifying text in an image. Here we'll use the MNIST dataset which consists of greyscale handwritten digits. Each image is 28x28 pixels, you can see a sample below\n",
    "\n",
    "<img src='assets/mnist.png'>\n",
    "\n",
    "Our goal is to build a neural network that can take one of these images and predict the digit in the image.\n",
    "\n",
    "First up, we need to get our dataset. This is provided through the `torchvision` package. The code below will download the MNIST dataset, then create training and test datasets for us. Don't worry too much about the details here, you'll learn more about this later."
   ]
  },
  {
   "cell_type": "code",
   "execution_count": 36,
   "metadata": {},
   "outputs": [],
   "source": [
    "### Run this cell\n",
    "\n",
    "from torchvision import datasets, transforms\n",
    "\n",
    "# Define a transform to normalize the data\n",
    "transform = transforms.Compose([transforms.ToTensor(),\n",
    "                              transforms.Normalize((0.5,), (0.5,)),\n",
    "                              ])\n",
    "\n",
    "# Download and load the training data\n",
    "trainset = datasets.MNIST('~/.pytorch/MNIST_data/', download=True, train=True, transform=transform)\n",
    "trainloader = torch.utils.data.DataLoader(trainset, batch_size=64, shuffle=True)"
   ]
  },
  {
   "cell_type": "markdown",
   "metadata": {},
   "source": [
    "We have the training data loaded into `trainloader` and we make that an iterator with `iter(trainloader)`. Later, we'll use this to loop through the dataset for training, like\n",
    "\n",
    "```python\n",
    "for image, label in trainloader:\n",
    "    ## do things with images and labels\n",
    "```\n",
    "\n",
    "You'll notice I created the `trainloader` with a batch size of 64, and `shuffle=True`. The batch size is the number of images we get in one iteration from the data loader and pass through our network, often called a *batch*. And `shuffle=True` tells it to shuffle the dataset every time we start going through the data loader again. But here I'm just grabbing the first batch so we can check out the data. We can see below that `images` is just a tensor with size `(64, 1, 28, 28)`. So, 64 images per batch, 1 color channel, and 28x28 images."
   ]
  },
  {
   "cell_type": "code",
   "execution_count": 37,
   "metadata": {},
   "outputs": [
    {
     "name": "stdout",
     "output_type": "stream",
     "text": [
      "<class 'torch.Tensor'>\n",
      "torch.Size([64, 1, 28, 28])\n",
      "torch.Size([64])\n"
     ]
    }
   ],
   "source": [
    "dataiter = iter(trainloader)\n",
    "images, labels = dataiter.next()\n",
    "print(type(images))\n",
    "print(images.shape)\n",
    "print(labels.shape)"
   ]
  },
  {
   "cell_type": "markdown",
   "metadata": {},
   "source": [
    "This is what one of the images looks like. "
   ]
  },
  {
   "cell_type": "code",
   "execution_count": 38,
   "metadata": {},
   "outputs": [
    {
     "data": {
      "image/png": "[encoded data removed]",
      "text/plain": [
       "<Figure size 432x288 with 1 Axes>"
      ]
     },
     "metadata": {
      "image/png": {
       "height": 250,
       "width": 253
      },
      "needs_background": "light"
     },
     "output_type": "display_data"
    }
   ],
   "source": [
    "plt.imshow(images[1].numpy().squeeze(), cmap='Greys_r');"
   ]
  },
  {
   "cell_type": "markdown",
   "metadata": {},
   "source": [
    "First, let's try to build a simple network for this dataset using weight matrices and matrix multiplications. Then, we'll see how to do it using PyTorch's `nn` module which provides a much more convenient and powerful method for defining network architectures.\n",
    "\n",
    "The networks you've seen so far are called *fully-connected* or *dense* networks. Each unit in one layer is connected to each unit in the next layer. In fully-connected networks, the input to each layer must be a one-dimensional vector (which can be stacked into a 2D tensor as a batch of multiple examples). However, our images are 28x28 2D tensors, so we need to convert them into 1D vectors. Thinking about sizes, we need to convert the batch of images with shape `(64, 1, 28, 28)` to a have a shape of `(64, 784)`, 784 is 28 times 28. This is typically called *flattening*, we flattened the 2D images into 1D vectors.\n",
    "\n",
    "Previously you built a network with one output unit. Here we need 10 output units, one for each digit. We want our network to predict the digit shown in an image, so what we'll do is calculate probabilities that the image is of any one digit or class. This ends up being a discrete probability distribution over the classes (digits) that tells us the most likely class for the image. That means we need 10 output units for the 10 classes (digits). We'll see how to convert the network output into a probability distribution next.\n",
    "\n",
    "> **Exercise:** Flatten the batch of images `images`. Then build a multi-layer network with 784 input units, 256 hidden units, and 10 output units using random tensors for the weights and biases. For now, use a sigmoid activation for the hidden layer. Leave the output layer without an activation, we'll add one that gives us a probability distribution next."
   ]
  },
  {
   "cell_type": "code",
   "execution_count": 39,
   "metadata": {},
   "outputs": [
    {
     "data": {
      "text/plain": [
       "tensor([[-1.0036e+01,  4.2500e-01, -1.4925e+01,  1.2509e+01, -1.3156e+01,\n",
       "         -4.7038e+00, -1.2349e+01, -3.2828e+00, -1.3192e+01,  4.7745e+00],\n",
       "        [ 1.7728e+00, -1.8961e-01, -1.3846e+01,  8.9985e+00,  1.7100e-01,\n",
       "         -1.2451e+01, -8.7657e+00, -3.6093e+00, -1.5947e+00,  6.0798e+00],\n",
       "        [ 1.0470e+00, -2.9682e+00, -9.4547e+00,  1.3921e+01, -7.0937e+00,\n",
       "         -1.1240e+01, -9.6754e+00, -7.7524e+00, -9.5772e+00,  8.3661e-01],\n",
       "        [-8.1889e-01,  7.4213e+00, -1.8674e+01,  2.3343e+01, -1.5554e+00,\n",
       "         -1.9130e+01, -9.4360e+00, -1.4627e+01,  2.3683e+00,  1.3015e+01],\n",
       "        [-8.1729e+00,  1.7809e+00, -1.2612e+01,  2.2081e+01, -9.2049e+00,\n",
       "         -4.8565e+00, -7.8531e+00, -1.8569e+01, -5.1968e+00,  1.2898e+01],\n",
       "        [-4.1620e+00, -8.7830e-01, -1.4756e+01,  6.4739e+00,  2.2888e+00,\n",
       "         -7.8722e+00, -7.6739e+00, -1.0599e+01, -1.5643e+01,  1.0871e+01],\n",
       "        [-5.6409e+00, -2.9776e+00, -1.4025e+01,  1.3299e+01, -1.1245e+01,\n",
       "         -8.8338e+00, -4.5520e+00, -1.3716e+01, -4.7600e+00,  1.2084e+01],\n",
       "        [-5.0111e+00,  9.7002e+00, -2.0109e+01,  1.9410e+01, -7.8254e+00,\n",
       "         -1.3682e+01, -7.2220e+00, -2.1531e+01,  3.7800e+00,  1.6770e+00],\n",
       "        [-9.6787e+00,  8.5322e+00, -1.3655e+01,  8.2732e+00, -1.3181e+00,\n",
       "         -1.5471e+01, -1.0926e+01, -9.0470e+00, -2.1072e+01,  1.4553e+00],\n",
       "        [-5.3386e+00,  1.7702e+00, -1.2400e+01,  3.3840e+00, -3.7500e-01,\n",
       "         -7.4919e+00, -1.0238e+01, -2.7745e+00, -1.3753e+01,  1.2479e+01],\n",
       "        [ 2.5768e+00,  1.1646e+00, -1.5218e+01,  5.3929e+00, -1.1224e+00,\n",
       "         -1.8208e+01, -1.1680e+01, -1.1425e+01, -6.1251e+00,  9.2679e+00],\n",
       "        [-4.6656e+00,  3.6253e+00, -1.7436e+01,  9.6635e+00, -1.2510e+00,\n",
       "         -1.2022e+01, -1.2786e+01, -1.3960e+00, -1.0773e+01,  1.0779e+01],\n",
       "        [ 9.7379e-01, -6.5277e+00, -1.3029e+01,  1.7004e+01,  3.0099e-01,\n",
       "         -6.4973e+00, -5.2293e+00, -1.2425e+01, -5.2160e+00,  1.5992e+01],\n",
       "        [-1.9818e+00,  2.9894e+00, -1.5978e+01,  1.3064e+01, -8.3102e+00,\n",
       "         -1.6758e+01, -1.4117e+01, -3.0817e+00, -9.9817e+00,  3.3023e+00],\n",
       "        [-8.4282e+00,  8.8063e-01, -2.0006e+01,  7.9653e+00, -3.4295e+00,\n",
       "         -6.3670e+00, -1.5080e+01, -8.5482e+00, -5.7990e+00,  1.2054e+01],\n",
       "        [-6.6483e+00,  9.9147e-02, -2.1107e+01,  6.5789e+00, -1.6157e+00,\n",
       "         -1.0164e+01, -1.8521e+01, -2.9116e+00, -9.7023e+00,  1.1233e+01],\n",
       "        [ 3.5815e+00, -6.7305e+00, -1.2345e+01,  9.5553e+00,  3.8577e+00,\n",
       "         -6.2151e+00, -3.2359e+00, -4.5569e+00, -7.2447e+00,  9.3461e+00],\n",
       "        [-2.9956e-01, -3.0955e+00, -1.5744e+01,  6.3943e+00, -3.5463e+00,\n",
       "         -2.7046e+01, -8.6293e+00, -1.7520e+01, -1.0879e+01,  8.4049e+00],\n",
       "        [ 4.3582e+00,  1.0766e+00, -1.2954e+01,  1.5142e+01,  2.8307e+00,\n",
       "         -9.0034e+00, -1.3409e+01, -1.1824e+01, -3.5120e+00,  1.1062e+01],\n",
       "        [-8.3856e+00,  1.1351e+01, -1.9196e+01,  1.3390e+01, -2.7935e+00,\n",
       "         -8.4068e+00, -8.8466e+00, -7.9881e+00, -1.5156e+01,  4.8110e+00],\n",
       "        [-1.4959e+00,  3.0465e+00, -1.3191e+01,  1.0924e+01, -1.1813e+01,\n",
       "         -1.0159e+01, -9.1313e+00, -4.4862e+00, -2.2309e+00,  6.6633e+00],\n",
       "        [-3.8447e+00, -9.2598e+00, -1.9013e+01,  7.4719e+00,  3.2016e+00,\n",
       "         -1.1821e+01, -9.1206e+00, -5.3926e+00, -1.3385e+01,  1.7075e+01],\n",
       "        [ 3.1301e+00,  3.8655e+00, -1.2340e+01,  6.8597e+00, -6.2836e+00,\n",
       "         -5.5332e+00, -9.6524e+00, -9.6934e+00, -6.1392e+00,  4.6582e+00],\n",
       "        [-4.5354e+00, -1.3306e+00, -1.4215e+01,  7.6500e+00, -1.0155e+01,\n",
       "         -1.3882e+01, -5.7505e+00, -9.7322e+00, -8.2807e+00,  1.3498e+01],\n",
       "        [ 4.7932e+00,  3.9703e-01, -8.4096e+00,  1.3364e+01, -1.0068e+01,\n",
       "         -6.4321e+00, -9.9719e+00, -1.4313e+01, -6.8270e+00,  1.8071e+00],\n",
       "        [ 1.2207e+00,  6.4069e+00, -2.4146e+01,  1.1369e+01, -8.8978e+00,\n",
       "         -1.1246e+01, -6.9537e+00, -8.8698e+00,  1.1657e+00,  1.4345e+01],\n",
       "        [-8.5527e+00,  8.3365e+00, -1.8079e+01,  4.1990e+00, -5.1665e+00,\n",
       "         -9.7580e+00, -6.5442e+00, -5.2073e+00, -8.4469e+00,  1.5617e+01],\n",
       "        [-5.5944e+00, -3.0418e+00, -1.3752e+01,  1.7276e+01, -8.8239e+00,\n",
       "         -8.6980e+00, -1.5820e+01, -1.1669e+01, -4.8673e+00,  1.3694e+01],\n",
       "        [-6.3625e-01,  9.2872e-01, -2.3612e+01,  9.2392e+00, -8.2172e+00,\n",
       "         -7.7295e+00, -1.1603e+01, -4.5912e+00, -3.4948e+00,  6.3171e-01],\n",
       "        [-9.1618e-01,  1.5593e+00, -1.8066e+01,  1.5240e+01,  3.0783e+00,\n",
       "         -1.3653e+01, -1.6703e+01, -5.5688e-01, -5.6428e+00, -2.4035e-02],\n",
       "        [-7.9159e+00,  1.2726e+00, -1.9456e+01,  7.7945e+00, -1.9962e+00,\n",
       "         -1.1593e+01, -1.6805e+01, -5.1045e+00, -7.3672e+00,  9.1691e+00],\n",
       "        [-5.5989e+00, -1.4695e+00, -1.2970e+01,  1.1887e+01,  1.1506e+00,\n",
       "         -2.0085e+01, -1.4916e+01, -1.3745e+01, -6.3700e+00,  1.2664e+01],\n",
       "        [ 5.3248e+00, -2.6908e+00, -9.3428e+00,  1.0872e+01, -1.4654e+01,\n",
       "         -1.1006e+01, -1.3896e+01, -1.1557e+01, -1.9013e+00,  9.4556e+00],\n",
       "        [-7.2855e+00,  7.6167e+00, -2.3436e+01,  1.3472e+01,  1.3132e+00,\n",
       "         -3.3550e+00, -8.6535e+00, -1.0591e+01, -2.1492e+00,  8.8662e+00],\n",
       "        [-5.5457e+00,  8.7046e+00, -1.7693e+01,  1.1119e+01, -8.3482e+00,\n",
       "         -8.6496e+00, -1.2848e+01, -7.9163e-01, -1.3362e+01,  1.3783e+01],\n",
       "        [-1.1735e+01,  6.6578e+00, -1.8648e+01,  1.1335e+00, -4.3452e+00,\n",
       "         -8.1583e+00, -1.5393e+01, -3.2461e+00, -9.5491e+00,  1.8902e+01],\n",
       "        [ 1.0906e+00,  2.9451e+00, -2.0777e+01,  6.0642e+00, -4.0186e+00,\n",
       "         -1.3360e+01, -1.0590e+01, -6.8329e+00, -1.1892e-01,  6.4645e+00],\n",
       "        [-7.6940e+00, -3.2229e-01, -1.2948e+01,  1.5104e+01, -1.8717e+00,\n",
       "         -8.5474e+00, -7.6020e+00, -1.4648e+01, -5.7075e+00,  1.3398e+01],\n",
       "        [-9.5525e-01,  9.4684e-01, -1.9092e+01,  1.2074e+01, -3.0520e+00,\n",
       "         -1.0258e+01, -1.7971e+01, -1.0479e+01, -2.8030e+00,  6.0063e+00],\n",
       "        [ 4.2319e+00,  8.1830e-01, -7.5370e+00,  1.4974e+01, -4.9855e+00,\n",
       "         -1.5737e+01, -7.7305e+00, -1.4508e+01, -1.8502e+01,  2.9383e+00],\n",
       "        [-1.5750e+00,  5.2503e+00, -1.4090e+01,  1.2767e+01, -8.1398e+00,\n",
       "         -6.9886e+00, -8.9536e+00, -1.6057e+01, -7.5452e+00,  1.0863e+01],\n",
       "        [-2.3881e+00,  3.4647e-01, -1.1884e+01,  1.2340e+01,  2.5284e+00,\n",
       "         -1.9464e+01, -1.3160e+01, -6.7366e+00, -8.8408e+00,  1.0253e+01],\n",
       "        [-8.9933e+00,  2.9885e+00, -1.2097e+01,  5.9768e+00, -1.1007e+01,\n",
       "         -6.1049e+00, -1.3066e+01, -9.9179e+00, -8.3557e+00,  3.3413e+00],\n",
       "        [-5.9833e+00, -6.7624e+00, -2.1216e+01,  7.6938e+00, -9.4063e+00,\n",
       "          4.0123e+00, -9.8847e+00,  4.0448e+00, -1.2447e+01,  5.9081e+00],\n",
       "        [-3.4541e+00,  7.3613e+00, -1.9467e+01,  1.0839e-01, -2.2569e-02,\n",
       "         -4.3750e+00, -1.7381e+01, -2.7375e+00,  1.3195e-01,  1.3014e+01],\n",
       "        [-1.1695e+01, -1.8881e+00, -1.6650e+01,  8.7439e+00, -3.2082e-01,\n",
       "         -7.5366e+00, -9.9229e+00, -1.8095e+00, -1.0237e+01,  7.3141e+00],\n",
       "        [-6.3014e+00,  5.6648e-01, -2.0817e+01,  1.4924e+01, -6.5957e+00,\n",
       "         -1.6696e+01, -9.5943e+00, -9.3230e+00, -1.1601e+01,  9.9574e+00],\n",
       "        [-1.5316e+00,  1.5684e+01, -1.4131e+01,  9.3747e+00, -1.5711e+01,\n",
       "         -1.3833e+01, -1.2523e+01, -6.6090e+00, -9.0800e+00, -5.3892e+00],\n",
       "        [-3.3190e+00, -3.7571e+00, -1.4410e+01,  1.6028e+01, -8.2586e+00,\n",
       "         -1.5479e+01, -1.4403e+01, -1.6033e+01, -1.2599e+01,  1.1922e+00],\n",
       "        [ 1.6555e+00, -2.9307e+00, -1.5188e+01,  2.2454e+01, -4.5437e+00,\n",
       "         -4.6430e+00, -1.3607e+01, -8.6384e+00, -1.0651e+01,  1.0962e+01],\n",
       "        [ 2.5240e-01, -2.4106e+00, -1.4577e+01,  1.3703e+01, -1.6710e+01,\n",
       "         -1.1728e+01, -6.1505e+00, -6.3247e+00, -1.1403e+01,  6.9861e+00],\n",
       "        [ 3.5453e+00,  8.8128e-02, -2.1665e+01,  9.1289e+00, -1.7243e+00,\n",
       "         -8.7262e+00, -5.9421e+00, -8.8410e+00, -1.6863e-01, -6.4302e-01],\n",
       "        [ 2.8988e+00, -8.8632e-01, -1.4643e+01,  1.4433e+01, -1.7092e+01,\n",
       "         -1.4465e+01, -8.3187e+00, -1.1884e+01,  3.4276e+00,  2.3657e+00],\n",
       "        [-1.9151e+00,  4.4254e+00, -1.2907e+01,  9.5688e+00, -6.4444e+00,\n",
       "         -1.3700e+01, -9.0339e+00, -6.9835e+00, -9.4942e+00, -8.9787e-01],\n",
       "        [-5.6963e+00,  9.8032e-01, -1.5788e+01,  9.5898e+00,  5.1247e+00,\n",
       "         -2.1605e+01, -1.2932e+01, -1.1902e+01, -2.2290e+00,  1.1977e+01],\n",
       "        [-1.9216e+00, -1.6942e+00, -1.5349e+01,  1.5733e+01, -1.1692e+01,\n",
       "         -1.4402e+01, -1.2088e+01, -1.1923e+01, -8.1039e+00,  4.6143e+00],\n",
       "        [ 1.2393e+00,  2.6462e+00, -1.3515e+01,  1.1419e+01, -3.7351e+00,\n",
       "         -1.4565e+01, -9.7224e+00, -1.8468e+01, -1.2470e+00,  1.0392e+01],\n",
       "        [-3.2043e+00,  3.9929e+00, -1.4791e+01,  1.7945e+01, -8.2423e+00,\n",
       "         -5.8920e-01, -1.2960e+01, -1.0343e+01, -4.6131e+00,  1.3736e+01],\n",
       "        [-6.9040e+00,  7.2002e-01, -4.7411e+00,  1.5706e+01, -2.0883e+01,\n",
       "         -1.1255e+01, -8.6040e+00, -1.0073e+01, -1.2177e+01,  5.3802e+00],\n",
       "        [ 5.7027e+00, -4.3110e+00, -2.3506e+01,  1.4238e+01, -8.5079e+00,\n",
       "         -6.6173e+00, -5.7883e+00, -3.3447e+00,  1.3811e+00,  1.0889e+01],\n",
       "        [-1.7864e+00,  1.4727e+00, -1.2454e+01,  6.5291e+00, -8.7122e+00,\n",
       "         -1.5219e+01, -9.8546e+00, -1.4340e+01, -7.9349e+00,  1.6944e+01],\n",
       "        [-1.3067e+01,  3.1331e+00, -1.6053e+01,  1.3544e+01, -6.8688e+00,\n",
       "         -3.5427e+00, -1.0739e+01,  1.0357e+01, -7.6789e+00,  1.3848e+01],\n",
       "        [-1.5116e+00, -9.0531e-01, -2.1904e+01,  7.5595e+00, -2.5920e+00,\n",
       "         -1.1798e+01, -1.5438e+01,  2.7026e+00, -8.9979e+00,  1.3187e+01],\n",
       "        [-5.6805e+00,  1.8576e+00, -2.3830e+01,  1.4937e+01, -4.0109e+00,\n",
       "         -8.2583e+00, -1.1054e+01, -6.9366e+00, -7.6850e+00,  1.3577e+01]])"
      ]
     },
     "execution_count": 39,
     "metadata": {},
     "output_type": "execute_result"
    }
   ],
   "source": [
    "## Your solution\n",
    "\n",
    "def activation(x):\n",
    "    return 1/(1+torch.exp(-x))\n",
    "\n",
    "\n",
    "imgs = images.view(64,784)\n",
    "\n",
    "n_in = imgs.shape[1]\n",
    "n_hidden = 256\n",
    "n_out= 10\n",
    "\n",
    "w1 = torch.randn(n_in, n_hidden)\n",
    "w2 = torch.randn(n_hidden, n_out)\n",
    "\n",
    "b1 = torch.randn(n_hidden)\n",
    "b2 = torch.randn(n_out)\n",
    "\n",
    "out = activation(imgs.mm(w1)+b1).mm(w2) + b2\n",
    "out"
   ]
  },
  {
   "cell_type": "markdown",
   "metadata": {},
   "source": [
    "Now we have 10 outputs for our network. We want to pass in an image to our network and get out a probability distribution over the classes that tells us the likely class(es) the image belongs to. Something that looks like this:\n",
    "<img src='assets/image_distribution.png' width=500px>\n",
    "\n",
    "Here we see that the probability for each class is roughly the same. This is representing an untrained network, it hasn't seen any data yet so it just returns a uniform distribution with equal probabilities for each class.\n",
    "\n",
    "To calculate this probability distribution, we often use the [**softmax** function](https://en.wikipedia.org/wiki/Softmax_function). Mathematically this looks like\n",
    "\n",
    "$$\n",
    "\\Large \\sigma(x_i) = \\cfrac{e^{x_i}}{\\sum_k^K{e^{x_k}}}\n",
    "$$\n",
    "\n",
    "What this does is squish each input $x_i$ between 0 and 1 and normalizes the values to give you a proper probability distribution where the probabilites sum up to one.\n",
    "\n",
    "> **Exercise:** Implement a function `softmax` that performs the softmax calculation and returns probability distributions for each example in the batch. Note that you'll need to pay attention to the shapes when doing this. If you have a tensor `a` with shape `(64, 10)` and a tensor `b` with shape `(64,)`, doing `a/b` will give you an error because PyTorch will try to do the division across the columns (called broadcasting) but you'll get a size mismatch. The way to think about this is for each of the 64 examples, you only want to divide by one value, the sum in the denominator. So you need `b` to have a shape of `(64, 1)`. This way PyTorch will divide the 10 values in each row of `a` by the one value in each row of `b`. Pay attention to how you take the sum as well. You'll need to define the `dim` keyword in `torch.sum`. Setting `dim=0` takes the sum across the rows while `dim=1` takes the sum across the columns."
   ]
  },
  {
   "cell_type": "code",
   "execution_count": 40,
   "metadata": {},
   "outputs": [
    {
     "name": "stdout",
     "output_type": "stream",
     "text": [
      "torch.Size([64, 10])\n",
      "tensor([1.0000, 1.0000, 1.0000, 1.0000, 1.0000, 1.0000, 1.0000, 1.0000, 1.0000,\n",
      "        1.0000, 1.0000, 1.0000, 1.0000, 1.0000, 1.0000, 1.0000, 1.0000, 1.0000,\n",
      "        1.0000, 1.0000, 1.0000, 1.0000, 1.0000, 1.0000, 1.0000, 1.0000, 1.0000,\n",
      "        1.0000, 1.0000, 1.0000, 1.0000, 1.0000, 1.0000, 1.0000, 1.0000, 1.0000,\n",
      "        1.0000, 1.0000, 1.0000, 1.0000, 1.0000, 1.0000, 1.0000, 1.0000, 1.0000,\n",
      "        1.0000, 1.0000, 1.0000, 1.0000, 1.0000, 1.0000, 1.0000, 1.0000, 1.0000,\n",
      "        1.0000, 1.0000, 1.0000, 1.0000, 1.0000, 1.0000, 1.0000, 1.0000, 1.0000,\n",
      "        1.0000])\n"
     ]
    }
   ],
   "source": [
    "def softmax(x):\n",
    "    return torch.exp(x)/torch.sum(torch.exp(x),dim=1).view(-1,1)\n",
    "\n",
    "# Here, out should be the output of the network in the previous excercise with shape (64,10)\n",
    "probabilities = softmax(out)\n",
    "\n",
    "# Does it have the right shape? Should be (64, 10)\n",
    "print(probabilities.shape)\n",
    "# Does it sum to 1?\n",
    "print(probabilities.sum(dim=1))"
   ]
  },
  {
   "cell_type": "markdown",
   "metadata": {},
   "source": [
    "## Building networks with PyTorch\n",
    "\n",
    "PyTorch provides a module `nn` that makes building networks much simpler. Here I'll show you how to build the same one as above with 784 inputs, 256 hidden units, 10 output units and a softmax output."
   ]
  },
  {
   "cell_type": "code",
   "execution_count": 41,
   "metadata": {},
   "outputs": [],
   "source": [
    "from torch import nn"
   ]
  },
  {
   "cell_type": "code",
   "execution_count": 42,
   "metadata": {},
   "outputs": [],
   "source": [
    "class Network(nn.Module):\n",
    "    def __init__(self):\n",
    "        super().__init__()\n",
    "        \n",
    "        # Inputs to hidden layer linear transformation\n",
    "        self.hidden = nn.Linear(784, 256)\n",
    "        # Output layer, 10 units - one for each digit\n",
    "        self.output = nn.Linear(256, 10)\n",
    "        \n",
    "        # Define sigmoid activation and softmax output \n",
    "        self.sigmoid = nn.Sigmoid()\n",
    "        self.softmax = nn.Softmax(dim=1)\n",
    "        \n",
    "    def forward(self, x):\n",
    "        # Pass the input tensor through each of our operations\n",
    "        x = self.hidden(x)\n",
    "        x = self.sigmoid(x)\n",
    "        x = self.output(x)\n",
    "        x = self.softmax(x)\n",
    "        \n",
    "        return x"
   ]
  },
  {
   "cell_type": "markdown",
   "metadata": {},
   "source": [
    "Let's go through this bit by bit.\n",
    "\n",
    "```python\n",
    "class Network(nn.Module):\n",
    "```\n",
    "\n",
    "Here we're inheriting from `nn.Module`. Combined with `super().__init__()` this creates a class that tracks the architecture and provides a lot of useful methods and attributes. It is mandatory to inherit from `nn.Module` when you're creating a class for your network. The name of the class itself can be anything.\n",
    "\n",
    "```python\n",
    "self.hidden = nn.Linear(784, 256)\n",
    "```\n",
    "\n",
    "This line creates a module for a linear transformation, $x\\mathbf{W} + b$, with 784 inputs and 256 outputs and assigns it to `self.hidden`. The module automatically creates the weight and bias tensors which we'll use in the `forward` method. You can access the weight and bias tensors once the network (`net`) is created with `net.hidden.weight` and `net.hidden.bias`.\n",
    "\n",
    "```python\n",
    "self.output = nn.Linear(256, 10)\n",
    "```\n",
    "\n",
    "Similarly, this creates another linear transformation with 256 inputs and 10 outputs.\n",
    "\n",
    "```python\n",
    "self.sigmoid = nn.Sigmoid()\n",
    "self.softmax = nn.Softmax(dim=1)\n",
    "```\n",
    "\n",
    "Here I defined operations for the sigmoid activation and softmax output. Setting `dim=1` in `nn.Softmax(dim=1)` calculates softmax across the columns.\n",
    "\n",
    "```python\n",
    "def forward(self, x):\n",
    "```\n",
    "\n",
    "PyTorch networks created with `nn.Module` must have a `forward` method defined. It takes in a tensor `x` and passes it through the operations you defined in the `__init__` method.\n",
    "\n",
    "```python\n",
    "x = self.hidden(x)\n",
    "x = self.sigmoid(x)\n",
    "x = self.output(x)\n",
    "x = self.softmax(x)\n",
    "```\n",
    "\n",
    "Here the input tensor `x` is passed through each operation and reassigned to `x`. We can see that the input tensor goes through the hidden layer, then a sigmoid function, then the output layer, and finally the softmax function. It doesn't matter what you name the variables here, as long as the inputs and outputs of the operations match the network architecture you want to build. The order in which you define things in the `__init__` method doesn't matter, but you'll need to sequence the operations correctly in the `forward` method.\n",
    "\n",
    "Now we can create a `Network` object."
   ]
  },
  {
   "cell_type": "code",
   "execution_count": 43,
   "metadata": {},
   "outputs": [
    {
     "data": {
      "text/plain": [
       "Network(\n",
       "  (hidden): Linear(in_features=784, out_features=256, bias=True)\n",
       "  (output): Linear(in_features=256, out_features=10, bias=True)\n",
       "  (sigmoid): Sigmoid()\n",
       "  (softmax): Softmax()\n",
       ")"
      ]
     },
     "execution_count": 43,
     "metadata": {},
     "output_type": "execute_result"
    }
   ],
   "source": [
    "# Create the network and look at it's text representation\n",
    "model = Network()\n",
    "model"
   ]
  },
  {
   "cell_type": "markdown",
   "metadata": {},
   "source": [
    "You can define the network somewhat more concisely and clearly using the `torch.nn.functional` module. This is the most common way you'll see networks defined as many operations are simple element-wise functions. We normally import this module as `F`, `import torch.nn.functional as F`."
   ]
  },
  {
   "cell_type": "code",
   "execution_count": 44,
   "metadata": {},
   "outputs": [],
   "source": [
    "import torch.nn.functional as F\n",
    "\n",
    "class Network(nn.Module):\n",
    "    def __init__(self):\n",
    "        super().__init__()\n",
    "        # Inputs to hidden layer linear transformation\n",
    "        self.hidden = nn.Linear(784, 256)\n",
    "        # Output layer, 10 units - one for each digit\n",
    "        self.output = nn.Linear(256, 10)\n",
    "        \n",
    "    def forward(self, x):\n",
    "        # Hidden layer with sigmoid activation\n",
    "        x = F.sigmoid(self.hidden(x))\n",
    "        # Output layer with softmax activation\n",
    "        x = F.softmax(self.output(x), dim=1)\n",
    "        \n",
    "        return x"
   ]
  },
  {
   "cell_type": "markdown",
   "metadata": {},
   "source": [
    "### Activation functions\n",
    "\n",
    "So far we've only been looking at the sigmoid activation function, but in general any function can be used as an activation function. The only requirement is that for a network to approximate a non-linear function, the activation functions must be non-linear. Here are a few more examples of common activation functions: Tanh (hyperbolic tangent), and ReLU (rectified linear unit).\n",
    "\n",
    "<img src=\"assets/activation.png\" width=700px>\n",
    "\n",
    "In practice, the ReLU function is used almost exclusively as the activation function for hidden layers."
   ]
  },
  {
   "cell_type": "markdown",
   "metadata": {},
   "source": [
    "### Your Turn to Build a Network\n",
    "\n",
    "<img src=\"assets/mlp_mnist.png\" width=600px>\n",
    "\n",
    "> **Exercise:** Create a network with 784 input units, a hidden layer with 128 units and a ReLU activation, then a hidden layer with 64 units and a ReLU activation, and finally an output layer with a softmax activation as shown above. You can use a ReLU activation with the `nn.ReLU` module or `F.relu` function.\n",
    "\n",
    "It's good practice to name your layers by their type of network, for instance 'fc' to represent a fully-connected layer. As you code your solution, use `fc1`, `fc2`, and `fc3` as your layer names."
   ]
  },
  {
   "cell_type": "code",
   "execution_count": 45,
   "metadata": {
    "scrolled": true
   },
   "outputs": [
    {
     "data": {
      "text/plain": [
       "DeepNet(\n",
       "  (fc1): Linear(in_features=784, out_features=128, bias=True)\n",
       "  (fc2): Linear(in_features=128, out_features=64, bias=True)\n",
       "  (fc3): Linear(in_features=64, out_features=10, bias=True)\n",
       ")"
      ]
     },
     "execution_count": 45,
     "metadata": {},
     "output_type": "execute_result"
    }
   ],
   "source": [
    "## Your solution here\n",
    "class DeepNet(nn.Module):\n",
    "    def __init__(self):\n",
    "        super().__init__()\n",
    "        self.fc1 = nn.Linear(784,128)\n",
    "        self.fc2 = nn.Linear(128,64)        \n",
    "        self.fc3 = nn.Linear(64,10)\n",
    "        \n",
    "    def forward(self,x):\n",
    "        return F.softmax(self.fc3(F.relu(self.fc2(F.relu(self.fc1(x))))),dim=1)\n",
    "    \n",
    "model = DeepNet()\n",
    "model"
   ]
  },
  {
   "cell_type": "markdown",
   "metadata": {},
   "source": [
    "### Initializing weights and biases\n",
    "\n",
    "The weights and such are automatically initialized for you, but it's possible to customize how they are initialized. The weights and biases are tensors attached to the layer you defined, you can get them with `model.fc1.weight` for instance."
   ]
  },
  {
   "cell_type": "code",
   "execution_count": 46,
   "metadata": {},
   "outputs": [
    {
     "name": "stdout",
     "output_type": "stream",
     "text": [
      "Parameter containing:\n",
      "tensor([[ 0.0011,  0.0071,  0.0006,  ...,  0.0222,  0.0074,  0.0183],\n",
      "        [ 0.0300,  0.0162, -0.0150,  ..., -0.0107,  0.0175, -0.0138],\n",
      "        [ 0.0065,  0.0310, -0.0148,  ..., -0.0349,  0.0175, -0.0234],\n",
      "        ...,\n",
      "        [ 0.0238, -0.0252,  0.0039,  ...,  0.0216, -0.0143, -0.0324],\n",
      "        [ 0.0152,  0.0305,  0.0325,  ..., -0.0350,  0.0339,  0.0078],\n",
      "        [ 0.0115, -0.0128, -0.0120,  ...,  0.0005, -0.0197,  0.0124]],\n",
      "       requires_grad=True)\n",
      "Parameter containing:\n",
      "tensor([ 0.0004,  0.0214,  0.0264, -0.0186,  0.0248, -0.0305, -0.0069, -0.0035,\n",
      "        -0.0287, -0.0071,  0.0319,  0.0350, -0.0344,  0.0332, -0.0257, -0.0169,\n",
      "        -0.0046, -0.0135,  0.0044,  0.0190, -0.0235, -0.0201, -0.0169, -0.0014,\n",
      "        -0.0145, -0.0148, -0.0060, -0.0169,  0.0332, -0.0025, -0.0305,  0.0281,\n",
      "         0.0073, -0.0184,  0.0042,  0.0251, -0.0346,  0.0074, -0.0003,  0.0082,\n",
      "        -0.0111,  0.0175,  0.0340,  0.0221,  0.0178, -0.0068,  0.0252,  0.0161,\n",
      "         0.0299, -0.0311, -0.0076,  0.0037, -0.0278,  0.0352,  0.0125, -0.0042,\n",
      "         0.0097,  0.0177,  0.0043,  0.0317, -0.0263,  0.0131, -0.0091, -0.0200,\n",
      "         0.0194,  0.0152,  0.0044, -0.0060, -0.0327, -0.0256, -0.0058,  0.0091,\n",
      "         0.0139,  0.0047, -0.0218,  0.0188,  0.0173,  0.0236,  0.0261,  0.0100,\n",
      "         0.0128,  0.0163,  0.0031, -0.0031,  0.0324,  0.0025, -0.0045, -0.0027,\n",
      "         0.0264, -0.0245,  0.0046,  0.0185, -0.0283,  0.0148,  0.0095,  0.0043,\n",
      "        -0.0118,  0.0254,  0.0270,  0.0117,  0.0281,  0.0103,  0.0324, -0.0163,\n",
      "        -0.0279,  0.0040,  0.0335,  0.0355,  0.0240,  0.0199, -0.0125, -0.0311,\n",
      "        -0.0043,  0.0137, -0.0078,  0.0024, -0.0250,  0.0254, -0.0230,  0.0341,\n",
      "        -0.0085,  0.0091,  0.0142, -0.0352, -0.0053, -0.0199,  0.0096,  0.0037],\n",
      "       requires_grad=True)\n"
     ]
    }
   ],
   "source": [
    "print(model.fc1.weight)\n",
    "print(model.fc1.bias)"
   ]
  },
  {
   "cell_type": "markdown",
   "metadata": {},
   "source": [
    "For custom initialization, we want to modify these tensors in place. These are actually autograd *Variables*, so we need to get back the actual tensors with `model.fc1.weight.data`. Once we have the tensors, we can fill them with zeros (for biases) or random normal values."
   ]
  },
  {
   "cell_type": "code",
   "execution_count": 47,
   "metadata": {},
   "outputs": [
    {
     "data": {
      "text/plain": [
       "tensor([0., 0., 0., 0., 0., 0., 0., 0., 0., 0., 0., 0., 0., 0., 0., 0., 0., 0., 0., 0., 0., 0., 0., 0.,\n",
       "        0., 0., 0., 0., 0., 0., 0., 0., 0., 0., 0., 0., 0., 0., 0., 0., 0., 0., 0., 0., 0., 0., 0., 0.,\n",
       "        0., 0., 0., 0., 0., 0., 0., 0., 0., 0., 0., 0., 0., 0., 0., 0., 0., 0., 0., 0., 0., 0., 0., 0.,\n",
       "        0., 0., 0., 0., 0., 0., 0., 0., 0., 0., 0., 0., 0., 0., 0., 0., 0., 0., 0., 0., 0., 0., 0., 0.,\n",
       "        0., 0., 0., 0., 0., 0., 0., 0., 0., 0., 0., 0., 0., 0., 0., 0., 0., 0., 0., 0., 0., 0., 0., 0.,\n",
       "        0., 0., 0., 0., 0., 0., 0., 0.])"
      ]
     },
     "execution_count": 47,
     "metadata": {},
     "output_type": "execute_result"
    }
   ],
   "source": [
    "# Set biases to all zeros\n",
    "model.fc1.bias.data.fill_(0)"
   ]
  },
  {
   "cell_type": "code",
   "execution_count": 48,
   "metadata": {},
   "outputs": [
    {
     "data": {
      "text/plain": [
       "tensor([[ 0.0062, -0.0075, -0.0050,  ...,  0.0002,  0.0150, -0.0120],\n",
       "        [-0.0222,  0.0129, -0.0004,  ..., -0.0129, -0.0043,  0.0018],\n",
       "        [-0.0046,  0.0142, -0.0027,  ...,  0.0268, -0.0011,  0.0149],\n",
       "        ...,\n",
       "        [-0.0118,  0.0077,  0.0058,  ..., -0.0106,  0.0135, -0.0142],\n",
       "        [ 0.0070, -0.0027,  0.0113,  ..., -0.0051, -0.0029,  0.0113],\n",
       "        [ 0.0158,  0.0053,  0.0002,  ...,  0.0002,  0.0145,  0.0043]])"
      ]
     },
     "execution_count": 48,
     "metadata": {},
     "output_type": "execute_result"
    }
   ],
   "source": [
    "# sample from random normal with standard dev = 0.01\n",
    "model.fc1.weight.data.normal_(std=0.01)"
   ]
  },
  {
   "cell_type": "markdown",
   "metadata": {},
   "source": [
    "### Forward pass\n",
    "\n",
    "Now that we have a network, let's see what happens when we pass in an image."
   ]
  },
  {
   "cell_type": "code",
   "execution_count": 49,
   "metadata": {},
   "outputs": [
    {
     "data": {
      "image/png": "[encoded data removed]",
      "text/plain": [
       "<Figure size 432x648 with 2 Axes>"
      ]
     },
     "metadata": {
      "image/png": {
       "height": 226,
       "width": 423
      },
      "needs_background": "light"
     },
     "output_type": "display_data"
    }
   ],
   "source": [
    "# Grab some data \n",
    "dataiter = iter(trainloader)\n",
    "images, labels = dataiter.next()\n",
    "\n",
    "# Resize images into a 1D vector, new shape is (batch size, color channels, image pixels) \n",
    "images.resize_(64, 1, 784)\n",
    "# or images.resize_(images.shape[0], 1, 784) to automatically get batch size\n",
    "\n",
    "# Forward pass through the network\n",
    "img_idx = 0\n",
    "ps = model.forward(images[img_idx,:])\n",
    "\n",
    "img = images[img_idx]\n",
    "helper.view_classify(img.view(1, 28, 28), ps)"
   ]
  },
  {
   "cell_type": "markdown",
   "metadata": {},
   "source": [
    "As you can see above, our network has basically no idea what this digit is. It's because we haven't trained it yet, all the weights are random!\n",
    "\n",
    "### Using `nn.Sequential`\n",
    "\n",
    "PyTorch provides a convenient way to build networks like this where a tensor is passed sequentially through operations, `nn.Sequential` ([documentation](https://pytorch.org/docs/master/nn.html#torch.nn.Sequential)). Using this to build the equivalent network:"
   ]
  },
  {
   "cell_type": "code",
   "execution_count": 50,
   "metadata": {},
   "outputs": [
    {
     "name": "stdout",
     "output_type": "stream",
     "text": [
      "Sequential(\n",
      "  (0): Linear(in_features=784, out_features=128, bias=True)\n",
      "  (1): ReLU()\n",
      "  (2): Linear(in_features=128, out_features=64, bias=True)\n",
      "  (3): ReLU()\n",
      "  (4): Linear(in_features=64, out_features=10, bias=True)\n",
      "  (5): Softmax()\n",
      ")\n"
     ]
    },
    {
     "data": {
      "image/png": "[encoded data removed]",
      "text/plain": [
       "<Figure size 432x648 with 2 Axes>"
      ]
     },
     "metadata": {
      "image/png": {
       "height": 226,
       "width": 423
      },
      "needs_background": "light"
     },
     "output_type": "display_data"
    }
   ],
   "source": [
    "# Hyperparameters for our network\n",
    "input_size = 784\n",
    "hidden_sizes = [128, 64]\n",
    "output_size = 10\n",
    "\n",
    "# Build a feed-forward network\n",
    "model = nn.Sequential(nn.Linear(input_size, hidden_sizes[0]),\n",
    "                      nn.ReLU(),\n",
    "                      nn.Linear(hidden_sizes[0], hidden_sizes[1]),\n",
    "                      nn.ReLU(),\n",
    "                      nn.Linear(hidden_sizes[1], output_size),\n",
    "                      nn.Softmax(dim=1))\n",
    "print(model)\n",
    "\n",
    "# Forward pass through the network and display output\n",
    "images, labels = next(iter(trainloader))\n",
    "images.resize_(images.shape[0], 1, 784)\n",
    "ps = model.forward(images[0,:])\n",
    "helper.view_classify(images[0].view(1, 28, 28), ps)"
   ]
  },
  {
   "cell_type": "markdown",
   "metadata": {},
   "source": [
    "Here our model is the same as before: 784 input units, a hidden layer with 128 units, ReLU activation, 64 unit hidden layer, another ReLU, then the output layer with 10 units, and the softmax output.\n",
    "\n",
    "The operations are available by passing in the appropriate index. For example, if you want to get first Linear operation and look at the weights, you'd use `model[0]`."
   ]
  },
  {
   "cell_type": "code",
   "execution_count": 51,
   "metadata": {},
   "outputs": [
    {
     "name": "stdout",
     "output_type": "stream",
     "text": [
      "Linear(in_features=784, out_features=128, bias=True)\n"
     ]
    },
    {
     "data": {
      "text/plain": [
       "Parameter containing:\n",
       "tensor([[-0.0165, -0.0180, -0.0085,  ..., -0.0230,  0.0048,  0.0065],\n",
       "        [ 0.0259, -0.0032, -0.0182,  ..., -0.0013,  0.0043, -0.0285],\n",
       "        [ 0.0321, -0.0328, -0.0299,  ..., -0.0230, -0.0290, -0.0302],\n",
       "        ...,\n",
       "        [-0.0018,  0.0111,  0.0118,  ...,  0.0055,  0.0206, -0.0065],\n",
       "        [ 0.0288,  0.0248,  0.0306,  ..., -0.0061, -0.0053,  0.0272],\n",
       "        [-0.0310, -0.0078, -0.0292,  ..., -0.0291, -0.0064, -0.0190]],\n",
       "       requires_grad=True)"
      ]
     },
     "execution_count": 51,
     "metadata": {},
     "output_type": "execute_result"
    }
   ],
   "source": [
    "print(model[0])\n",
    "model[0].weight"
   ]
  },
  {
   "cell_type": "markdown",
   "metadata": {},
   "source": [
    "You can also pass in an `OrderedDict` to name the individual layers and operations, instead of using incremental integers. Note that dictionary keys must be unique, so _each operation must have a different name_."
   ]
  },
  {
   "cell_type": "code",
   "execution_count": 52,
   "metadata": {},
   "outputs": [
    {
     "data": {
      "text/plain": [
       "Sequential(\n",
       "  (fc1): Linear(in_features=784, out_features=128, bias=True)\n",
       "  (relu1): ReLU()\n",
       "  (fc2): Linear(in_features=128, out_features=64, bias=True)\n",
       "  (relu2): ReLU()\n",
       "  (output): Linear(in_features=64, out_features=10, bias=True)\n",
       "  (softmax): Softmax()\n",
       ")"
      ]
     },
     "execution_count": 52,
     "metadata": {},
     "output_type": "execute_result"
    }
   ],
   "source": [
    "from collections import OrderedDict\n",
    "model = nn.Sequential(OrderedDict([\n",
    "                      ('fc1', nn.Linear(input_size, hidden_sizes[0])),\n",
    "                      ('relu1', nn.ReLU()),\n",
    "                      ('fc2', nn.Linear(hidden_sizes[0], hidden_sizes[1])),\n",
    "                      ('relu2', nn.ReLU()),\n",
    "                      ('output', nn.Linear(hidden_sizes[1], output_size)),\n",
    "                      ('softmax', nn.Softmax(dim=1))]))\n",
    "model"
   ]
  },
  {
   "cell_type": "markdown",
   "metadata": {},
   "source": [
    "Now you can access layers either by integer or the name"
   ]
  },
  {
   "cell_type": "code",
   "execution_count": 53,
   "metadata": {},
   "outputs": [
    {
     "name": "stdout",
     "output_type": "stream",
     "text": [
      "Linear(in_features=784, out_features=128, bias=True)\n",
      "Linear(in_features=784, out_features=128, bias=True)\n"
     ]
    }
   ],
   "source": [
    "print(model[0])\n",
    "print(model.fc1)"
   ]
  },
  {
   "cell_type": "markdown",
   "metadata": {},
   "source": [
    "In the next notebook, we'll see how we can train a neural network to accuractly predict the numbers appearing in the MNIST images."
   ]
  }
 ],
 "metadata": {
  "kernelspec": {
   "display_name": "Python 3",
   "language": "python",
   "name": "python3"
  },
  "language_info": {
   "codemirror_mode": {
    "name": "ipython",
    "version": 3
   },
   "file_extension": ".py",
   "mimetype": "text/x-python",
   "name": "python",
   "nbconvert_exporter": "python",
   "pygments_lexer": "ipython3",
   "version": "3.5.6"
  }
 },
 "nbformat": 4,
 "nbformat_minor": 2
}
