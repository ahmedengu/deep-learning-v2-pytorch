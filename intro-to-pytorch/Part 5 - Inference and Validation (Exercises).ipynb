{
 "cells": [
  {
   "cell_type": "markdown",
   "metadata": {},
   "source": [
    "# Inference and Validation\n",
    "\n",
    "Now that you have a trained network, you can use it for making predictions. This is typically called **inference**, a term borrowed from statistics. However, neural networks have a tendency to perform *too well* on the training data and aren't able to generalize to data that hasn't been seen before. This is called **overfitting** and it impairs inference performance. To test for overfitting while training, we measure the performance on data not in the training set called the **validation** set. We avoid overfitting through regularization such as dropout while monitoring the validation performance during training. In this notebook, I'll show you how to do this in PyTorch. \n",
    "\n",
    "As usual, let's start by loading the dataset through torchvision. You'll learn more about torchvision and loading data in a later part. This time we'll be taking advantage of the test set which you can get by setting `train=False` here:\n",
    "\n",
    "```python\n",
    "testset = datasets.FashionMNIST('~/.pytorch/F_MNIST_data/', download=True, train=False, transform=transform)\n",
    "```\n",
    "\n",
    "The test set contains images just like the training set. Typically you'll see 10-20% of the original dataset held out for testing and validation with the rest being used for training."
   ]
  },
  {
   "cell_type": "code",
   "execution_count": 91,
   "metadata": {},
   "outputs": [],
   "source": [
    "import torch\n",
    "from torchvision import datasets, transforms\n",
    "\n",
    "# Define a transform to normalize the data\n",
    "transform = transforms.Compose([transforms.ToTensor(),\n",
    "                                transforms.Normalize((0.5,), (0.5,))])\n",
    "# Download and load the training data\n",
    "trainset = datasets.FashionMNIST('~/.pytorch/F_MNIST_data/', download=True, train=True, transform=transform)\n",
    "trainloader = torch.utils.data.DataLoader(trainset, batch_size=64, shuffle=True)\n",
    "\n",
    "# Download and load the test data\n",
    "testset = datasets.FashionMNIST('~/.pytorch/F_MNIST_data/', download=True, train=False, transform=transform)\n",
    "testloader = torch.utils.data.DataLoader(testset, batch_size=64, shuffle=True)"
   ]
  },
  {
   "cell_type": "markdown",
   "metadata": {},
   "source": [
    "Here I'll create a model like normal, using the same one from my solution for part 4."
   ]
  },
  {
   "cell_type": "code",
   "execution_count": 92,
   "metadata": {},
   "outputs": [],
   "source": [
    "from torch import nn, optim\n",
    "import torch.nn.functional as F\n",
    "\n",
    "class Classifier(nn.Module):\n",
    "    def __init__(self):\n",
    "        super().__init__()\n",
    "        self.fc1 = nn.Linear(784, 256)\n",
    "        self.fc2 = nn.Linear(256, 128)\n",
    "        self.fc3 = nn.Linear(128, 64)\n",
    "        self.fc4 = nn.Linear(64, 10)\n",
    "        \n",
    "    def forward(self, x):\n",
    "        # make sure input tensor is flattened\n",
    "        x = x.view(x.shape[0], -1)\n",
    "        \n",
    "        x = F.relu(self.fc1(x))\n",
    "        x = F.relu(self.fc2(x))\n",
    "        x = F.relu(self.fc3(x))\n",
    "        x = F.log_softmax(self.fc4(x), dim=1)\n",
    "        \n",
    "        return x"
   ]
  },
  {
   "cell_type": "markdown",
   "metadata": {},
   "source": [
    "The goal of validation is to measure the model's performance on data that isn't part of the training set. Performance here is up to the developer to define though. Typically this is just accuracy, the percentage of classes the network predicted correctly. Other options are [precision and recall](https://en.wikipedia.org/wiki/Precision_and_recall#Definition_(classification_context)) and top-5 error rate. We'll focus on accuracy here. First I'll do a forward pass with one batch from the test set."
   ]
  },
  {
   "cell_type": "code",
   "execution_count": 93,
   "metadata": {},
   "outputs": [
    {
     "name": "stdout",
     "output_type": "stream",
     "text": [
      "torch.Size([64, 10])\n"
     ]
    }
   ],
   "source": [
    "model = Classifier()\n",
    "\n",
    "images, labels = next(iter(testloader))\n",
    "# Get the class probabilities\n",
    "ps = torch.exp(model(images))\n",
    "# Make sure the shape is appropriate, we should get 10 class probabilities for 64 examples\n",
    "print(ps.shape)"
   ]
  },
  {
   "cell_type": "markdown",
   "metadata": {},
   "source": [
    "With the probabilities, we can get the most likely class using the `ps.topk` method. This returns the $k$ highest values. Since we just want the most likely class, we can use `ps.topk(1)`. This returns a tuple of the top-$k$ values and the top-$k$ indices. If the highest value is the fifth element, we'll get back 4 as the index."
   ]
  },
  {
   "cell_type": "code",
   "execution_count": 94,
   "metadata": {},
   "outputs": [
    {
     "name": "stdout",
     "output_type": "stream",
     "text": [
      "tensor([[4],\n",
      "        [4],\n",
      "        [4],\n",
      "        [4],\n",
      "        [4],\n",
      "        [4],\n",
      "        [4],\n",
      "        [4],\n",
      "        [4],\n",
      "        [4]])\n"
     ]
    }
   ],
   "source": [
    "top_p, top_class = ps.topk(1, dim=1)\n",
    "# Look at the most likely classes for the first 10 examples\n",
    "print(top_class[:10,:])"
   ]
  },
  {
   "cell_type": "markdown",
   "metadata": {},
   "source": [
    "Now we can check if the predicted classes match the labels. This is simple to do by equating `top_class` and `labels`, but we have to be careful of the shapes. Here `top_class` is a 2D tensor with shape `(64, 1)` while `labels` is 1D with shape `(64)`. To get the equality to work out the way we want, `top_class` and `labels` must have the same shape.\n",
    "\n",
    "If we do\n",
    "\n",
    "```python\n",
    "equals = top_class == labels\n",
    "```\n",
    "\n",
    "`equals` will have shape `(64, 64)`, try it yourself. What it's doing is comparing the one element in each row of `top_class` with each element in `labels` which returns 64 True/False boolean values for each row."
   ]
  },
  {
   "cell_type": "code",
   "execution_count": 95,
   "metadata": {},
   "outputs": [],
   "source": [
    "equals = top_class == labels.view(*top_class.shape)"
   ]
  },
  {
   "cell_type": "markdown",
   "metadata": {},
   "source": [
    "Now we need to calculate the percentage of correct predictions. `equals` has binary values, either 0 or 1. This means that if we just sum up all the values and divide by the number of values, we get the percentage of correct predictions. This is the same operation as taking the mean, so we can get the accuracy with a call to `torch.mean`. If only it was that simple. If you try `torch.mean(equals)`, you'll get an error\n",
    "\n",
    "```\n",
    "RuntimeError: mean is not implemented for type torch.ByteTensor\n",
    "```\n",
    "\n",
    "This happens because `equals` has type `torch.ByteTensor` but `torch.mean` isn't implemented for tensors with that type. So we'll need to convert `equals` to a float tensor. Note that when we take `torch.mean` it returns a scalar tensor, to get the actual value as a float we'll need to do `accuracy.item()`."
   ]
  },
  {
   "cell_type": "code",
   "execution_count": 96,
   "metadata": {},
   "outputs": [
    {
     "name": "stdout",
     "output_type": "stream",
     "text": [
      "Accuracy: 15.625\n"
     ]
    }
   ],
   "source": [
    "accuracy = torch.mean(equals.type(torch.FloatTensor))\n",
    "print('Accuracy:', accuracy.item()*100)"
   ]
  },
  {
   "cell_type": "markdown",
   "metadata": {},
   "source": [
    "The network is untrained so it's making random guesses and we should see an accuracy around 10%. Now let's train our network and include our validation pass so we can measure how well the network is performing on the test set. Since we're not updating our parameters in the validation pass, we can speed up our code by turning off gradients using `torch.no_grad()`:\n",
    "\n",
    "```python\n",
    "# turn off gradients\n",
    "with torch.no_grad():\n",
    "    # validation pass here\n",
    "    for images, labels in testloader:\n",
    "        ...\n",
    "```\n",
    "\n",
    ">**Exercise:** Implement the validation loop below and print out the total accuracy after the loop. You can largely copy and paste the code from above, but I suggest typing it in because writing it out yourself is essential for building the skill. In general you'll always learn more by typing it rather than copy-pasting. You should be able to get an accuracy above 80%."
   ]
  },
  {
   "cell_type": "code",
   "execution_count": 97,
   "metadata": {},
   "outputs": [
    {
     "name": "stdout",
     "output_type": "stream",
     "text": [
      "Train Loss: 0.5112522320547846 Test acc: 81.38166666666666\n",
      "Val Loss: 0.44441148762110694 Val acc: 83.87\n",
      "Train Loss: 0.3861985291515205 Test acc: 86.00333333333333\n",
      "Val Loss: 0.4329503961619298 Val acc: 84.66\n",
      "Train Loss: 0.35194704932635273 Test acc: 87.13666666666666\n",
      "Val Loss: 0.41693054054193435 Val acc: 85.25\n",
      "Train Loss: 0.33144196805987025 Test acc: 87.81833333333333\n",
      "Val Loss: 0.3806680149523316 Val acc: 86.37\n",
      "Train Loss: 0.31664999543444944 Test acc: 88.21\n",
      "Val Loss: 0.3583174045108686 Val acc: 87.52\n",
      "Train Loss: 0.3016566251323167 Test acc: 88.83833333333332\n",
      "Val Loss: 0.3750533875860986 Val acc: 87.24\n",
      "Train Loss: 0.2907264505399824 Test acc: 89.32333333333334\n",
      "Val Loss: 0.36581371563255405 Val acc: 86.96000000000001\n",
      "Train Loss: 0.2805148991726355 Test acc: 89.645\n",
      "Val Loss: 0.3607267747828915 Val acc: 87.35000000000001\n",
      "Train Loss: 0.27613306655955594 Test acc: 89.84\n",
      "Val Loss: 0.3939716071839545 Val acc: 86.11999999999999\n",
      "Train Loss: 0.26689484872734115 Test acc: 90.115\n",
      "Val Loss: 0.36100544804220747 Val acc: 87.39\n",
      "Train Loss: 0.25798904852890003 Test acc: 90.31666666666666\n",
      "Val Loss: 0.36873549688014257 Val acc: 87.8\n",
      "Train Loss: 0.2511177398065832 Test acc: 90.66333333333333\n",
      "Val Loss: 0.39263643134551446 Val acc: 87.51\n",
      "Train Loss: 0.2431215016540688 Test acc: 91.03333333333333\n",
      "Val Loss: 0.36911397384610145 Val acc: 87.82\n",
      "Train Loss: 0.24283860311277514 Test acc: 91.07666666666667\n",
      "Val Loss: 0.3602194530758888 Val acc: 87.48\n",
      "Train Loss: 0.2368270052727987 Test acc: 91.12333333333333\n",
      "Val Loss: 0.39526702620231424 Val acc: 87.92\n",
      "Train Loss: 0.23256460883454091 Test acc: 91.30333333333334\n",
      "Val Loss: 0.35779398480418384 Val acc: 88.13\n",
      "Train Loss: 0.22646651703761075 Test acc: 91.56666666666666\n",
      "Val Loss: 0.3654390326730765 Val acc: 88.19\n",
      "Train Loss: 0.2214574310571146 Test acc: 91.68666666666667\n",
      "Val Loss: 0.3897086247611957 Val acc: 87.31\n",
      "Train Loss: 0.2148960081300438 Test acc: 91.915\n",
      "Val Loss: 0.38268496523237533 Val acc: 88.07000000000001\n",
      "Train Loss: 0.2113116664418788 Test acc: 92.06833333333333\n",
      "Val Loss: 0.38115448784676326 Val acc: 88.51\n",
      "Train Loss: 0.21014608785525948 Test acc: 92.15833333333333\n",
      "Val Loss: 0.43572505777049214 Val acc: 86.74\n",
      "Train Loss: 0.2059387914967467 Test acc: 92.46833333333333\n",
      "Val Loss: 0.37511837767187955 Val acc: 88.28\n",
      "Train Loss: 0.19842769435124358 Test acc: 92.60166666666667\n",
      "Val Loss: 0.4254857876877876 Val acc: 86.99\n",
      "Train Loss: 0.20471785131142908 Test acc: 92.46666666666667\n",
      "Val Loss: 0.39783773419393853 Val acc: 88.27000000000001\n",
      "Train Loss: 0.1916936133017164 Test acc: 92.86666666666666\n",
      "Val Loss: 0.4091127048821966 Val acc: 88.41\n",
      "Train Loss: 0.18979736429247965 Test acc: 92.87166666666667\n",
      "Val Loss: 0.40215304992191353 Val acc: 88.05\n",
      "Train Loss: 0.19178107777423758 Test acc: 92.78999999999999\n",
      "Val Loss: 0.40860767809638554 Val acc: 88.47\n",
      "Train Loss: 0.18555955403347388 Test acc: 93.17833333333333\n",
      "Val Loss: 0.4024825128874961 Val acc: 88.01\n",
      "Train Loss: 0.1848078378037349 Test acc: 93.13333333333334\n",
      "Val Loss: 0.42425851334052483 Val acc: 88.52\n",
      "Train Loss: 0.18116804541968334 Test acc: 93.28666666666666\n",
      "Val Loss: 0.3948348137508532 Val acc: 88.53\n"
     ]
    }
   ],
   "source": [
    "model = Classifier()\n",
    "criterion = nn.NLLLoss()\n",
    "optimizer = optim.Adam(model.parameters(), lr=0.003)\n",
    "\n",
    "epochs = 30\n",
    "steps = 0\n",
    "\n",
    "train_losses, test_losses = [], []\n",
    "for e in range(epochs):\n",
    "    running_loss = 0\n",
    "    running_acc = 0\n",
    "    for images, labels in trainloader:\n",
    "        \n",
    "        optimizer.zero_grad()\n",
    "        \n",
    "        log_ps = model(images)\n",
    "        loss = criterion(log_ps, labels)\n",
    "        loss.backward()\n",
    "        optimizer.step()\n",
    "        \n",
    "        running_loss += loss.item()\n",
    "        running_acc += (torch.exp(log_ps).argmax(dim=1) == labels).sum().item()\n",
    "        \n",
    "    else:\n",
    "        ## TODO: Implement the validation pass and print out the validation accuracy\n",
    "        \n",
    "        print('Train Loss:', running_loss/len(trainloader), 'Test acc:', running_acc/len(trainset)*100)\n",
    "        running_loss = 0\n",
    "        running_acc = 0\n",
    "        with torch.no_grad():\n",
    "            for images,labels in testloader:\n",
    "                log_ps = model(images)\n",
    "                loss = criterion(log_ps, labels)\n",
    "                running_loss += loss.item()\n",
    "                running_acc += (torch.exp(log_ps).argmax(dim=1) == labels).sum().item()\n",
    "            else:\n",
    "                print('Val Loss:', running_loss/len(testloader), 'Val acc:', running_acc/len(testset)*100)"
   ]
  },
  {
   "cell_type": "markdown",
   "metadata": {},
   "source": [
    "## Overfitting\n",
    "\n",
    "If we look at the training and validation losses as we train the network, we can see a phenomenon known as overfitting.\n",
    "\n",
    "<img src='assets/overfitting.png' width=450px>\n",
    "\n",
    "The network learns the training set better and better, resulting in lower training losses. However, it starts having problems generalizing to data outside the training set leading to the validation loss increasing. The ultimate goal of any deep learning model is to make predictions on new data, so we should strive to get the lowest validation loss possible. One option is to use the version of the model with the lowest validation loss, here the one around 8-10 training epochs. This strategy is called *early-stopping*. In practice, you'd save the model frequently as you're training then later choose the model with the lowest validation loss.\n",
    "\n",
    "The most common method to reduce overfitting (outside of early-stopping) is *dropout*, where we randomly drop input units. This forces the network to share information between weights, increasing it's ability to generalize to new data. Adding dropout in PyTorch is straightforward using the [`nn.Dropout`](https://pytorch.org/docs/stable/nn.html#torch.nn.Dropout) module.\n",
    "\n",
    "```python\n",
    "class Classifier(nn.Module):\n",
    "    def __init__(self):\n",
    "        super().__init__()\n",
    "        self.fc1 = nn.Linear(784, 256)\n",
    "        self.fc2 = nn.Linear(256, 128)\n",
    "        self.fc3 = nn.Linear(128, 64)\n",
    "        self.fc4 = nn.Linear(64, 10)\n",
    "        \n",
    "        # Dropout module with 0.2 drop probability\n",
    "        self.dropout = nn.Dropout(p=0.2)\n",
    "        \n",
    "    def forward(self, x):\n",
    "        # make sure input tensor is flattened\n",
    "        x = x.view(x.shape[0], -1)\n",
    "        \n",
    "        # Now with dropout\n",
    "        x = self.dropout(F.relu(self.fc1(x)))\n",
    "        x = self.dropout(F.relu(self.fc2(x)))\n",
    "        x = self.dropout(F.relu(self.fc3(x)))\n",
    "        \n",
    "        # output so no dropout here\n",
    "        x = F.log_softmax(self.fc4(x), dim=1)\n",
    "        \n",
    "        return x\n",
    "```\n",
    "\n",
    "During training we want to use dropout to prevent overfitting, but during inference we want to use the entire network. So, we need to turn off dropout during validation, testing, and whenever we're using the network to make predictions. To do this, you use `model.eval()`. This sets the model to evaluation mode where the dropout probability is 0. You can turn dropout back on by setting the model to train mode with `model.train()`. In general, the pattern for the validation loop will look like this, where you turn off gradients, set the model to evaluation mode, calculate the validation loss and metric, then set the model back to train mode.\n",
    "\n",
    "```python\n",
    "# turn off gradients\n",
    "with torch.no_grad():\n",
    "    \n",
    "    # set model to evaluation mode\n",
    "    model.eval()\n",
    "    \n",
    "    # validation pass here\n",
    "    for images, labels in testloader:\n",
    "        ...\n",
    "\n",
    "# set model back to train mode\n",
    "model.train()\n",
    "```"
   ]
  },
  {
   "cell_type": "markdown",
   "metadata": {},
   "source": [
    "> **Exercise:** Add dropout to your model and train it on Fashion-MNIST again. See if you can get a lower validation loss or higher accuracy."
   ]
  },
  {
   "cell_type": "code",
   "execution_count": 98,
   "metadata": {},
   "outputs": [],
   "source": [
    "## TODO: Define your model with dropout added\n",
    "from torch import nn, optim\n",
    "import torch.nn.functional as F\n",
    "\n",
    "class Classifier(nn.Module):\n",
    "    def __init__(self):\n",
    "        super().__init__()\n",
    "        self.fc1 = nn.Linear(784, 256)\n",
    "        self.fc2 = nn.Linear(256, 128)\n",
    "        self.fc3 = nn.Linear(128, 64)\n",
    "        self.fc4 = nn.Linear(64, 10)\n",
    "        \n",
    "        self.dropout = nn.Dropout(0.2)\n",
    "        \n",
    "    def forward(self, x):\n",
    "        # make sure input tensor is flattened\n",
    "        x = x.view(x.shape[0], -1)\n",
    "        \n",
    "        x = F.relu(self.fc1(x))\n",
    "        x = self.dropout(x)\n",
    "        x = F.relu(self.fc2(x))\n",
    "        x = self.dropout(x)\n",
    "        x = F.relu(self.fc3(x))\n",
    "        x = self.dropout(x)\n",
    "        x = F.log_softmax(self.fc4(x), dim=1)\n",
    "        \n",
    "        return x"
   ]
  },
  {
   "cell_type": "code",
   "execution_count": 99,
   "metadata": {},
   "outputs": [
    {
     "name": "stdout",
     "output_type": "stream",
     "text": [
      "train loss 0.5994423031806946 train acc 78.36999999999999\n",
      "test loss 0.45348099576439826 test acc 82.95\n",
      "train loss 0.43319723763064283 train acc 84.70833333333333\n",
      "test loss 0.4011837966313028 test acc 85.92\n",
      "train loss 0.3992949725944859 train acc 85.695\n",
      "test loss 0.39208154959283814 test acc 86.1\n",
      "train loss 0.37608113235184376 train acc 86.42166666666667\n",
      "test loss 0.36863697353442004 test acc 86.22\n",
      "train loss 0.35480475331197925 train acc 87.25500000000001\n",
      "test loss 0.38008442900742695 test acc 86.26\n",
      "train loss 0.3439371175984584 train acc 87.53666666666666\n",
      "test loss 0.3564842894768259 test acc 87.3\n",
      "train loss 0.3317562030243086 train acc 88.02\n",
      "test loss 0.36238113150095486 test acc 87.19\n",
      "train loss 0.3190693850360954 train acc 88.41499999999999\n",
      "test loss 0.3487393299865115 test acc 87.52\n",
      "train loss 0.31369214581210475 train acc 88.72666666666666\n",
      "test loss 0.3456991228043653 test acc 87.9\n",
      "train loss 0.3072972248262688 train acc 88.86333333333334\n",
      "test loss 0.34096994815738335 test acc 87.87\n",
      "train loss 0.2977258765589454 train acc 89.21333333333334\n",
      "test loss 0.3355929659810036 test acc 87.9\n",
      "train loss 0.2909246126710098 train acc 89.24333333333333\n",
      "test loss 0.34200572322128686 test acc 87.91\n",
      "train loss 0.284953982956501 train acc 89.52\n",
      "test loss 0.3366160397032264 test acc 88.17\n",
      "train loss 0.27847332176941036 train acc 89.67500000000001\n",
      "test loss 0.34525273949097673 test acc 88.14999999999999\n",
      "train loss 0.2768354187054293 train acc 89.82833333333333\n",
      "test loss 0.3396685538682968 test acc 88.27000000000001\n",
      "train loss 0.2693661250301134 train acc 90.03\n",
      "test loss 0.33566551897556157 test acc 88.2\n",
      "train loss 0.2662288905746901 train acc 90.135\n",
      "test loss 0.32360892951678316 test acc 88.57000000000001\n",
      "train loss 0.2632203990263916 train acc 90.24833333333333\n",
      "test loss 0.3367050989133537 test acc 88.64\n",
      "train loss 0.25578368904748194 train acc 90.515\n",
      "test loss 0.3278375987888901 test acc 88.62\n",
      "train loss 0.25466454899244345 train acc 90.64\n",
      "test loss 0.3254146303530711 test acc 88.82\n",
      "train loss 0.2512373190357296 train acc 90.71000000000001\n",
      "test loss 0.33452178181926157 test acc 88.86\n",
      "train loss 0.24773543746645516 train acc 90.78833333333334\n",
      "test loss 0.3392243545241417 test acc 88.46000000000001\n",
      "train loss 0.24320246604110388 train acc 90.90666666666667\n",
      "test loss 0.32297977126517874 test acc 89.13\n",
      "train loss 0.23998977608089125 train acc 91.20666666666666\n",
      "test loss 0.33245624725226386 test acc 88.44\n",
      "train loss 0.23779713421233936 train acc 91.11166666666666\n",
      "test loss 0.328154499601027 test acc 88.94999999999999\n",
      "train loss 0.2389819267064905 train acc 91.14333333333333\n",
      "test loss 0.3478125960678811 test acc 88.56\n",
      "train loss 0.2324059943495783 train acc 91.455\n",
      "test loss 0.3148240326506317 test acc 89.01\n",
      "train loss 0.23025898185016505 train acc 91.45333333333333\n",
      "test loss 0.33062067276732937 test acc 88.83\n",
      "train loss 0.22623385525127845 train acc 91.545\n",
      "test loss 0.3317220342007412 test acc 89.02\n",
      "train loss 0.22419995878503393 train acc 91.64\n",
      "test loss 0.3275951724143545 test acc 89.17\n"
     ]
    }
   ],
   "source": [
    "## TODO: Train your model with dropout, and monitor the training progress with the validation loss and accuracy\n",
    "model = Classifier()\n",
    "criterion = nn.NLLLoss()\n",
    "optimizer = optim.Adam(model.parameters(),lr = 0.001)\n",
    "\n",
    "epochs = 30\n",
    "\n",
    "for e in range(epochs):\n",
    "    running_loss = 0\n",
    "    running_acc = 0\n",
    "    model.train()\n",
    "    for images,labels in trainloader:\n",
    "        optimizer.zero_grad()\n",
    "        ps = model(images)\n",
    "        loss = criterion(ps,labels)\n",
    "        loss.backward()\n",
    "        optimizer.step()\n",
    "        running_loss += loss.item()\n",
    "        running_acc += (torch.exp(ps).argmax(dim=1)==labels).sum().item()\n",
    "    else:\n",
    "        print('train loss', running_loss/len(trainloader), 'train acc',running_acc/len(trainset)*100)\n",
    "        running_loss = 0\n",
    "        running_acc = 0\n",
    "        with torch.no_grad():\n",
    "            model.eval()\n",
    "            for images,labels in testloader:\n",
    "                ps = model(images)\n",
    "                loss = criterion(ps,labels)\n",
    "                running_loss+= loss.item()\n",
    "                running_acc+= (torch.exp(ps).argmax(dim=1)==labels).sum().item()\n",
    "            else:\n",
    "                print('test loss',running_loss/len(testloader),'test acc', running_acc/len(testset)*100)"
   ]
  },
  {
   "cell_type": "markdown",
   "metadata": {},
   "source": [
    "## Inference\n",
    "\n",
    "Now that the model is trained, we can use it for inference. We've done this before, but now we need to remember to set the model in inference mode with `model.eval()`. You'll also want to turn off autograd with the `torch.no_grad()` context."
   ]
  },
  {
   "cell_type": "code",
   "execution_count": 100,
   "metadata": {},
   "outputs": [
    {
     "data": {
      "image/png": "[encoded data removed]",
      "text/plain": [
       "<Figure size 432x648 with 2 Axes>"
      ]
     },
     "metadata": {
      "needs_background": "light"
     },
     "output_type": "display_data"
    }
   ],
   "source": [
    "# Import helper module (should be in the repo)\n",
    "import helper\n",
    "\n",
    "# Test out your network!\n",
    "\n",
    "model.eval()\n",
    "\n",
    "dataiter = iter(testloader)\n",
    "images, labels = dataiter.next()\n",
    "img = images[0]\n",
    "# Convert 2D image to 1D vector\n",
    "img = img.view(1, 784)\n",
    "\n",
    "# Calculate the class probabilities (softmax) for img\n",
    "with torch.no_grad():\n",
    "    output = model.forward(img)\n",
    "\n",
    "ps = torch.exp(output)\n",
    "\n",
    "# Plot the image and probabilities\n",
    "helper.view_classify(img.view(1, 28, 28), ps, version='Fashion')"
   ]
  },
  {
   "cell_type": "markdown",
   "metadata": {},
   "source": [
    "## Next Up!\n",
    "\n",
    "In the next part, I'll show you how to save your trained models. In general, you won't want to train a model everytime you need it. Instead, you'll train once, save it, then load the model when you want to train more or use if for inference."
   ]
  }
 ],
 "metadata": {
  "kernelspec": {
   "display_name": "Python 3",
   "language": "python",
   "name": "python3"
  },
  "language_info": {
   "codemirror_mode": {
    "name": "ipython",
    "version": 3
   },
   "file_extension": ".py",
   "mimetype": "text/x-python",
   "name": "python",
   "nbconvert_exporter": "python",
   "pygments_lexer": "ipython3",
   "version": "3.5.6"
  }
 },
 "nbformat": 4,
 "nbformat_minor": 2
}
